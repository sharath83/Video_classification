{
 "cells": [
  {
   "cell_type": "code",
   "execution_count": 1,
   "metadata": {
    "collapsed": true
   },
   "outputs": [],
   "source": [
    "'''This Program reads video files and classify them into following activties\n",
    "Hand washing, Medical Sink interaction, items placed, others: water pouring / running'''\n",
    "#%matplotlib inline\n",
    "import cv2\n",
    "import numpy as np\n",
    "import pandas as pd\n",
    "import os\n",
    "from IPython.display import Image\n",
    "from IPython.display import display\n",
    "from matplotlib import pyplot as plt\n",
    "\n",
    "#Video reading my cv2 stopped working since ffmpeg has some issue on my system. So using skvideo to read.\n",
    "from skvideo.io import VideoCapture"
   ]
  },
  {
   "cell_type": "code",
   "execution_count": 2,
   "metadata": {
    "collapsed": true
   },
   "outputs": [],
   "source": [
    "#Give the path to folder with all the videos\n",
    "path = '/Users/homw/Documents/MSDS16/IndStudy/videos/'"
   ]
  },
  {
   "cell_type": "code",
   "execution_count": 3,
   "metadata": {
    "collapsed": true
   },
   "outputs": [],
   "source": [
    "#Creates a csv file with all the details of videos by parsing the name\n",
    "roomNo, dayOfWeek, month, day, hours, minutes, seconds, year = [],[],[],[],[],[],[],[]\n",
    "filename = []\n",
    "for f in os.listdir(path):\n",
    "    if f.endswith(\"mp4\"):\n",
    "        roomNo.append(f[:4])\n",
    "        dayOfWeek.append(f[7:10])\n",
    "        month.append(f[11:14])\n",
    "        day.append(f[15:17])\n",
    "        hours.append(f[18:20])\n",
    "        minutes.append(f[21:23])\n",
    "        seconds.append(f[24:26])\n",
    "        year.append(f[27:31])\n",
    "        filename.append(f[:-4])\n",
    "\n",
    "df = pd.DataFrame({\"File_Name\": filename,\"RoomNo\": roomNo, \"Day_of_week\": dayOfWeek, \"Month\": month, \"Day\": day, \"Time_hh\":hours, \n",
    "                   \"Time_mm\": minutes,\"Time_ss\": seconds, \"Year\": year})\n",
    "df.to_csv(\"video_data.csv\", index = False)"
   ]
  },
  {
   "cell_type": "code",
   "execution_count": 4,
   "metadata": {
    "collapsed": true
   },
   "outputs": [],
   "source": [
    "#vid=cv2.VideoCapture(os.path.join(path,data[\"File_Name\"][0]+\".mp4\"))\n",
    "def get_first_last_diff(file_path):\n",
    "    vid = VideoCapture(file_path)\n",
    "    success, frame_0 = vid.read()\n",
    "    while success:\n",
    "        success, frame = vid.read()\n",
    "        if success:\n",
    "            frame_n = frame\n",
    "\n",
    "    frame_0 = cv2.cvtColor(frame_0, cv2.COLOR_RGB2GRAY)\n",
    "    frame_n = cv2.cvtColor(frame_n, cv2.COLOR_RGB2GRAY)\n",
    "    diff = cv2.absdiff(frame_n, frame_0)\n",
    "    _,diff = cv2.threshold(diff,80,255,cv2.THRESH_BINARY)\n",
    "\n",
    "    #erode\n",
    "    kernel = np.ones((5,5), np.uint8)\n",
    "    diff = cv2.erode(diff, kernel, iterations=1)\n",
    "    return np.count_nonzero(diff)"
   ]
  },
  {
   "cell_type": "code",
   "execution_count": 5,
   "metadata": {
    "collapsed": true
   },
   "outputs": [],
   "source": [
    "def glove_detector(fpath):\n",
    "    vid = VideoCapture(os.path.join(fpath))\n",
    "    \n",
    "    success, frame_0 = vid.read()\n",
    "    frame_0g = cv2.cvtColor(frame_0, cv2.COLOR_RGB2GRAY)\n",
    "    \n",
    "    kernel = np.ones((5,5), np.uint8)\n",
    "    count_purple = 0\n",
    "    purple = []\n",
    "    while success:\n",
    "        success, frame = vid.read()\n",
    "        if success:\n",
    "            \n",
    "            frame_ng = cv2.cvtColor(frame, cv2.COLOR_RGB2GRAY)\n",
    "            diff = cv2.absdiff(frame_ng, frame_0g)\n",
    "            _,diff = cv2.threshold(diff,80,255,cv2.THRESH_BINARY)\n",
    "            #erode\n",
    "            diff = cv2.erode(diff, kernel, iterations=1)\n",
    "            #print(\"the difference is {}\".format(np.count_nonzero(diff)))\n",
    "            if np.count_nonzero(diff) > 2000:\n",
    "                hsv = cv2.cvtColor(frame, cv2.COLOR_RGB2HSV)\n",
    "                # define range of purple color in HSV - color of gloves\n",
    "                lower_purple = np.array([120,180,120])\n",
    "                upper_purple = np.array([140,200,140])\n",
    "\n",
    "                # Threshold the HSV image to get only purple colors\n",
    "                mask = cv2.inRange(hsv, lower_purple, upper_purple)\n",
    "\n",
    "                # Bitwise-AND mask and original image\n",
    "                res = cv2.bitwise_and(frame,frame, mask= mask)\n",
    "                count_purple = np.count_nonzero(res)\n",
    "            if count_purple > 500:\n",
    "                purple.append(1)\n",
    "                #Reset\n",
    "                count_purple = 0 \n",
    "            else:\n",
    "                purple.append(0)\n",
    "    \n",
    "    return purple"
   ]
  },
  {
   "cell_type": "code",
   "execution_count": 8,
   "metadata": {
    "collapsed": true
   },
   "outputs": [],
   "source": [
    "def handwash_detector(fpath):\n",
    "    \n",
    "    #fpath = os.path.join(path, \"3132 - Fri Jan 15 15-47-38 2016.mp4\")\n",
    "    vid = VideoCapture(fpath)\n",
    "    handwash = []\n",
    "    count_fg_f = []\n",
    "    count_fg_l = []\n",
    "    #Get first and last frames of the video\n",
    "    success, frame_first = vid.read()\n",
    "    frame_first = cv2.cvtColor(frame_first, cv2.COLOR_BGR2GRAY)\n",
    "    while success:\n",
    "        success, frame = vid.read()\n",
    "        if success:\n",
    "            frame_last = frame\n",
    "\n",
    "    frame_last = cv2.cvtColor(frame_last, cv2.COLOR_BGR2GRAY)\n",
    "    diff_l_f = cv2.absdiff(frame_last, frame_first)\n",
    "    _,diff_l_f = cv2.threshold(diff_l_f,80,255,cv2.THRESH_BINARY)\n",
    "\n",
    "    #reset the indexer to the first frame\n",
    "    vid = VideoCapture(fpath)\n",
    "    success, frame = vid.read()\n",
    "    while success:\n",
    "        success, frame = vid.read()\n",
    "        if success:\n",
    "            frame_ng = cv2.cvtColor(frame, cv2.COLOR_BGR2GRAY)\n",
    "            diff_n_f = cv2.absdiff(frame_ng, frame_first)\n",
    "            diff_n_l = cv2.absdiff(frame_ng, frame_last)\n",
    "            _,diff_n_f = cv2.threshold(diff_n_f,80,255,cv2.THRESH_BINARY)\n",
    "            _,diff_n_l = cv2.threshold(diff_n_l,80,255,cv2.THRESH_BINARY)\n",
    "            #erode\n",
    "            kernel = np.ones((5,5), np.uint8)\n",
    "            diff_n_f = cv2.erode(diff_n_f, kernel, iterations=1)\n",
    "            diff_n_l = cv2.erode(diff_n_l, kernel, iterations=1)\n",
    "            count_fg_f.append(np.count_nonzero(diff_n_f))\n",
    "            count_fg_l.append(np.count_nonzero(diff_n_l))\n",
    "            #print(\"first %d last %d\"%(np.count_nonzero(diff_n_f), np.count_nonzero(diff_n_l)))\n",
    "    count_fg = [1 if p>5000 and q>5000 else 0 for p,q in zip(count_fg_f,count_fg_l)]\n",
    "    return(count_fg)"
   ]
  },
  {
   "cell_type": "code",
   "execution_count": 6,
   "metadata": {
    "collapsed": false
   },
   "outputs": [],
   "source": [
    "#Reads files from video_data.csv and Classifies them into following classes\n",
    "# Hand washing, Medical Sink interaction, items placed, others: water pouring / running\n",
    "#Writes a csv with classfied activities\n",
    "def classify_videos():\n",
    "    data = pd.read_csv(\"video_data.csv\", delimiter=\",\")\n",
    "    Act_ItemsPlaced = list()\n",
    "    Act_MedSink = list()\n",
    "    Act_HandWash = list()\n",
    "    for idx, row in data.iterrows():\n",
    "        f = row[\"File_Name\"]\n",
    "        fpath = f+\".mp4\"\n",
    "        fpath = os.path.join(path,fpath)\n",
    "\n",
    "        #Detect Activity: Items placed / removed\n",
    "        diff = get_first_last_diff(fpath)\n",
    "        #diff=0\n",
    "        #print(\"diff for %s is %d\" %(f,diff))\n",
    "\n",
    "        # classify activity as items placed if the difference is more than 100\n",
    "        if diff > 100:\n",
    "            Act_ItemsPlaced.append(1)\n",
    "        else:\n",
    "            Act_ItemsPlaced.append(0)\n",
    "\n",
    "        #Detect Activity: Medical sink interaction\n",
    "        # if purple gloves detected, classfy as med-sink interaction\n",
    "        count_glove_frames = np.sum(glove_detector(fpath))\n",
    "        #print(\"glove frames count for %s is %d\" %(f,count_glove_frames))\n",
    "        count_handwash_frames = 0\n",
    "        if count_glove_frames > 20:\n",
    "            Act_MedSink.append(1)\n",
    "        else:\n",
    "            Act_MedSink.append(0)\n",
    "\n",
    "            #Detect Activity: Hand washing\n",
    "            #the videos that are not in MedSink category are potential candidates for handwash\n",
    "            count_handwash_frames = np.sum(handwash_detector(fpath))\n",
    "\n",
    "        #print(\"handwash frames count for %s is %d\" %(f,count_handwash_frames))\n",
    "\n",
    "        if count_handwash_frames > 50:\n",
    "            Act_HandWash.append(1)\n",
    "        else:\n",
    "            Act_HandWash.append(0)\n",
    "    Act_Others = [0 if p+q+r > 0 else 1 for p,q,r in zip(Act_MedSink,Act_ItemsPlaced,Act_HandWash)]\n",
    "    data[\"Act_MedSink\"] = Act_MedSink\n",
    "    data[\"Act_ItemsPlaced\"] = Act_ItemsPlaced\n",
    "    data[\"Act_HandWash\"] = Act_HandWash\n",
    "    data[\"Act_Others\"] = Act_Others\n",
    "    data.to_csv(\"video_classification.csv\", \",\")\n",
    "    print(\"%d videos classified successfully\" %(len(data)))"
   ]
  },
  {
   "cell_type": "code",
   "execution_count": 9,
   "metadata": {
    "collapsed": false
   },
   "outputs": [
    {
     "name": "stdout",
     "output_type": "stream",
     "text": [
      "21 videos classified successfully\n"
     ]
    }
   ],
   "source": [
    "#call the classification function\n",
    "classify_videos()"
   ]
  },
  {
   "cell_type": "code",
   "execution_count": null,
   "metadata": {
    "collapsed": true
   },
   "outputs": [],
   "source": []
  }
 ],
 "metadata": {
  "kernelspec": {
   "display_name": "Python 2",
   "language": "python",
   "name": "python2"
  },
  "language_info": {
   "codemirror_mode": {
    "name": "ipython",
    "version": 2
   },
   "file_extension": ".py",
   "mimetype": "text/x-python",
   "name": "python",
   "nbconvert_exporter": "python",
   "pygments_lexer": "ipython2",
   "version": "2.7.10"
  }
 },
 "nbformat": 4,
 "nbformat_minor": 0
}
