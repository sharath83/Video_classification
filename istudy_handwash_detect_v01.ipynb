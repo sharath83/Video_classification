{
 "cells": [
  {
   "cell_type": "code",
   "execution_count": 13,
   "metadata": {
    "collapsed": false
   },
   "outputs": [
    {
     "name": "stdout",
     "output_type": "stream",
     "text": [
      "handwash start frame is 76 and end frame is 572\n",
      "Total length of handwash is 49.000000 seconds for 3132 - Fri Jan 15 15-47-38 2016.mp4\n",
      "handwash start frame is 29 and end frame is 212\n",
      "Total length of handwash is 18.000000 seconds for 3135 - Fri Jan 15 11-23-35 2016.mp4\n",
      "handwash start frame is 70 and end frame is 250\n",
      "Total length of handwash is 18.000000 seconds for 3135 - Fri Jan 15 18-43-35 2016.mp4\n",
      "handwash start frame is 109 and end frame is 335\n",
      "Total length of handwash is 22.000000 seconds for 3135 - Sat Jan 16 09-41-55 2016.mp4\n"
     ]
    }
   ],
   "source": [
    "import cv2\n",
    "import numpy as np\n",
    "import os\n",
    "from IPython.display import Image\n",
    "from IPython.display import display\n",
    "from matplotlib import pyplot as plt\n",
    "\n",
    "#Video reading my cv2 stopped working since ffmpeg has some issue on my system. So using skvideo to read.\n",
    "from skvideo.io import VideoCapture\n",
    "\n",
    "'''Folder with input videos in it'''\n",
    "folder = \"/Users/homw/Documents/MSDS16/IndStudy/handwash/\"\n",
    "\n",
    "#Extract all the foreground pixels assuming only handwash activity in the video\n",
    "def get_fg_from_video(file_path):\n",
    "    vid = VideoCapture(file_path)\n",
    "    ''' Get frames per second (fps) to calculate duration'''\n",
    "    #fps    = vid.get(cv2.cv.CV_CAP_PROP_FPS)\n",
    "    fps = 10\n",
    "    ''' Initializing parameters'''\n",
    "    #fcount = 1\n",
    "    fgscore = []\n",
    "    '''Read the video file and prepare a ref frame'''\n",
    "    success, frame0 = vid.read()\n",
    "    frame0 = cv2.cvtColor(frame0, cv2.COLOR_RGB2GRAY)\n",
    "    '''Required for erode operation to cleanup the noise'''\n",
    "    kernel = np.ones((5,5), np.uint8)\n",
    "    while success:\n",
    "        success, frame1 = vid.read()\n",
    "\n",
    "        if success:\n",
    "\n",
    "            frame1 = cv2.cvtColor(frame1, cv2.COLOR_RGB2GRAY)\n",
    "            #Frame differencing and threshold to capture foreground\n",
    "            diff = cv2.absdiff(frame1, frame0)\n",
    "            _,diff = cv2.threshold(diff,80,255,cv2.THRESH_BINARY)\n",
    "\n",
    "            #Erode the image to avoid false positives with 5X5 kernel\n",
    "            diff = cv2.erode(diff, kernel, iterations=1)\n",
    "            fgscore.append(np.count_nonzero(diff))\n",
    "            #fcount += 1\n",
    "            if cv2.waitKey(10) == 27:\n",
    "                break\n",
    "    return fgscore, fps\n",
    "\n",
    "\n",
    "#Calculates and prints the handwash details from the video\n",
    "def print_handwash_details(fgscore, fps, file_name):\n",
    "    #handwash_totframes = len([f for f in fgscore if f > 1000])\n",
    "    handwash_startframe = next((index for index, f in enumerate(fgscore) if f > 1000), -1)\n",
    "    handwash_endframe = next((index for index, f in enumerate(fgscore[::-1]) if f > 1000), -1)\n",
    "    handwash_endframe = len(fgscore) - handwash_endframe\n",
    "    handwash_totframes = handwash_endframe-handwash_startframe\n",
    "    \n",
    "    handwash_len_seconds = handwash_totframes/fps\n",
    "    print(\"handwash start frame is %d and end frame is %d\" %(handwash_startframe, handwash_endframe))\n",
    "    print(\"Total length of handwash is %01f seconds for %s\" %(handwash_len_seconds, file_name))\n",
    "    \n",
    "\n",
    "#Main code\n",
    "#files = next(os.walk(folder))[2]\n",
    "files = os.listdir(folder)[1:]\n",
    "for f in files:\n",
    "    file_path = os.path.join(folder, f)\n",
    "    foreground_score, fps = get_fg_from_video(file_path)\n",
    "    print_handwash_details(foreground_score, fps, f)"
   ]
  },
  {
   "cell_type": "code",
   "execution_count": 12,
   "metadata": {
    "collapsed": false
   },
   "outputs": [
    {
     "data": {
      "text/plain": [
       "'/Users/homw/Documents/MSDS16/IndStudy/handwash/3132 - Fri Jan 15 15-47-38 2016.mp4'"
      ]
     },
     "execution_count": 12,
     "metadata": {},
     "output_type": "execute_result"
    }
   ],
   "source": [
    "file_path"
   ]
  },
  {
   "cell_type": "code",
   "execution_count": null,
   "metadata": {
    "collapsed": true
   },
   "outputs": [],
   "source": []
  }
 ],
 "metadata": {
  "kernelspec": {
   "display_name": "Python 2",
   "language": "python",
   "name": "python2"
  },
  "language_info": {
   "codemirror_mode": {
    "name": "ipython",
    "version": 2
   },
   "file_extension": ".py",
   "mimetype": "text/x-python",
   "name": "python",
   "nbconvert_exporter": "python",
   "pygments_lexer": "ipython2",
   "version": "2.7.10"
  }
 },
 "nbformat": 4,
 "nbformat_minor": 0
}
